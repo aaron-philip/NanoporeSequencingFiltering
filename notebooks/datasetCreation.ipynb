{
 "cells": [
  {
   "cell_type": "code",
   "execution_count": 1,
   "id": "100bf4ee",
   "metadata": {},
   "outputs": [
    {
     "name": "stdout",
     "output_type": "stream",
     "text": [
      "importing Jupyter notebook from Filters.ipynb\n"
     ]
    }
   ],
   "source": [
    "import numpy as np\n",
    "import matplotlib.pyplot as plt\n",
    "from scipy.integrate import solve_ivp\n",
    "from scipy import signal\n",
    "from scipy.optimize import curve_fit\n",
    "import math\n",
    "from typing import Optional\n",
    "import os\n",
    "import h5py\n",
    "\n",
    "# Use filtration code developed in Filters.ipynb\n",
    "import import_ipynb\n",
    "from Filters import Filters, TimesteppedFilters, ButterworthFilters"
   ]
  },
  {
   "cell_type": "code",
   "execution_count": 2,
   "id": "e95d96b5",
   "metadata": {},
   "outputs": [],
   "source": [
    "# Unpacks signals and restores to original values in pico-Amperes\n",
    "def pA_convert(path_to_fast5, filename):\n",
    "    os.system('h5ls -d %s/%s.fast5/Raw/Reads/Read_981/Signal >  %s/%s.data' % (path_to_fast5, fname, path_to_fast5, fname))\n",
    "    os.system('h5dump -a \"/UniqueGlobalKey/channel_id/offset\" %s/%s.fast5 > %s/shift.data' %(path_to_fast5,fname, path_to_fast5))\n",
    "    os.system('h5dump -a \"/UniqueGlobalKey/channel_id/range\" %s/%s.fast5 >> %s/shift.data' %(path_to_fast5,fname, path_to_fast5))\n",
    "    os.system('h5dump -a \"/UniqueGlobalKey/channel_id/digitisation\" %s/%s.fast5 >> %s/shift.data' %(path_to_fast5,fname, path_to_fast5))\n",
    "    raw = []\n",
    "\n",
    "    with open('%s/%s.data' % (path_to_fast5, fname), 'r') as data:\n",
    "        data.readline()\n",
    "        data.readline()\n",
    "        line = data.readline()\n",
    "        while line != '':\n",
    "            splitarr = line.split()\n",
    "            splitarr.pop(0)\n",
    "            last = splitarr[-1]\n",
    "            for current in range(len(splitarr)):\n",
    "                splitarr[current] = splitarr[current][:-1]\n",
    "            raw.extend(splitarr)\n",
    "            line = data.readline()\n",
    "        raw[-1] = last\n",
    "    \n",
    "    #get offset and scale\n",
    "    with open('%s/shift.data' % (path_to_fast5), 'r') as shift:\n",
    "        for a in range(5):\n",
    "            shift.readline()\n",
    "        offsetLine = shift.readline()\n",
    "        offsetArr = offsetLine.split()\n",
    "        offsetArr.pop(0)\n",
    "        offset = float(offsetArr[0])\n",
    "    \n",
    "        for b in range(8):\n",
    "            shift.readline()\n",
    "        rangeLine = shift.readline()\n",
    "        rangeArr = rangeLine.split()\n",
    "        rangeArr.pop(0)\n",
    "        rang = float(rangeArr[0])\n",
    "    \n",
    "        for c in range(8):\n",
    "            shift.readline()\n",
    "        digLine = shift.readline()\n",
    "        digArr = digLine.split()\n",
    "        digArr.pop(0)\n",
    "        dig = float(digArr[0])\n",
    "    print(\"Offset:\", offset, \", Range:\", rang, \", Digitisation:\", dig)\n",
    "\n",
    "    os.system('rm %s/%s.data' % (path_to_fast5, fname))\n",
    "    os.system('rm %s/shift.data' % (path_to_fast5))\n",
    "\n",
    "    scale = rang/dig\n",
    "    raw = np.array(raw, dtype=np.float32)\n",
    "\n",
    "    signal = (raw + offset)*scale\n",
    "    return signal"
   ]
  },
  {
   "cell_type": "code",
   "execution_count": 3,
   "id": "2c699513",
   "metadata": {
    "scrolled": true
   },
   "outputs": [
    {
     "name": "stdout",
     "output_type": "stream",
     "text": [
      "Offset: 37.0 , Range: 1368.36 , Digitisation: 8192.0\n"
     ]
    }
   ],
   "source": [
    "# Restore noisy and truth signal arrays to pico-Amperes\n",
    "path_to_fast5 = '/Users/aaronphilip/ScienceFair/projects/NanoporeSequencingFiltering/DeepSimulator/artificial_human_chr22_DeepSimu/fast5'\n",
    "fname = 'signal_0_30d8bd50-3aae-4eab-95da-2083e9df0631'\n",
    "noisySignal = pA_convert(path_to_fast5, fname)"
   ]
  },
  {
   "cell_type": "code",
   "execution_count": 4,
   "id": "1f34219f",
   "metadata": {},
   "outputs": [],
   "source": [
    "#print(noisySignal.size)\n",
    "#cutLen = 1000\n",
    "#ncuts = (int) (len(raw)/cutLen)\n",
    "#segmentArray = np.empty(ncuts) #tells where to 'cut' the raw data; to be refined later (cwDTW_nano)\n",
    "#print(segmentArray.size)\n",
    "\n",
    "#for length in range(segmentArray.size):\n",
    "#    segmentArray[length] = cutLen"
   ]
  },
  {
   "cell_type": "code",
   "execution_count": null,
   "id": "a501843a",
   "metadata": {},
   "outputs": [],
   "source": []
  }
 ],
 "metadata": {
  "kernelspec": {
   "display_name": "Python 3",
   "language": "python",
   "name": "python3"
  },
  "language_info": {
   "codemirror_mode": {
    "name": "ipython",
    "version": 3
   },
   "file_extension": ".py",
   "mimetype": "text/x-python",
   "name": "python",
   "nbconvert_exporter": "python",
   "pygments_lexer": "ipython3",
   "version": "3.8.8"
  }
 },
 "nbformat": 4,
 "nbformat_minor": 5
}
