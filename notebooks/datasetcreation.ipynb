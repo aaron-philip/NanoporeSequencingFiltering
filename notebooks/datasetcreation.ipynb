{
 "cells": [
  {
   "cell_type": "code",
   "execution_count": 1,
   "id": "100bf4ee",
   "metadata": {},
   "outputs": [
    {
     "name": "stdout",
     "output_type": "stream",
     "text": [
      "importing Jupyter notebook from filters.ipynb\n",
      "importing Jupyter notebook from dataprocessing.ipynb\n"
     ]
    }
   ],
   "source": [
    "# Use filtration code developed in filters.ipynb and data processing tools in dataprocessing.ipynb to build dataset\n",
    "import numpy as np\n",
    "import matplotlib.pyplot as plt\n",
    "from scipy.integrate import solve_ivp\n",
    "from scipy import signal\n",
    "from scipy.optimize import curve_fit\n",
    "import math\n",
    "from typing import Optional\n",
    "import os\n",
    "import h5py\n",
    "import random\n",
    "\n",
    "import import_ipynb\n",
    "from filters import Filters, TimesteppedFilters, ButterworthFilters\n",
    "from dataprocessing import genData, dataTreatment, writeH5"
   ]
  },
  {
   "cell_type": "code",
   "execution_count": 2,
   "id": "9157ab6c",
   "metadata": {},
   "outputs": [],
   "source": [
    "PATH_TO_DEEPSIM = '/Users/aaronphilip/ScienceFair/projects/NanoporeSequencingFiltering/DeepSimulator'\n",
    "SEQUENCE = 'artificial_human_chr22'\n",
    "PATH_TO_FASTA = os.path.join(PATH_TO_DEEPSIM, 'example/%s.fasta' % SEQUENCE)\n",
    "PATH_TO_H5 = '/Users/aaronphilip/ScienceFair/projects/NanoporeSequencingFiltering/database'"
   ]
  },
  {
   "cell_type": "code",
   "execution_count": 3,
   "id": "05659324",
   "metadata": {},
   "outputs": [
    {
     "name": "stdout",
     "output_type": "stream",
     "text": [
      "Offset: 37.0 , Range: 1368.36 , Digitisation: 8192.0\n",
      "Offset: 37.0 , Range: 1368.36 , Digitisation: 8192.0\n"
     ]
    }
   ],
   "source": [
    "humanChr22 = genData(PATH_TO_DEEPSIM, SEQUENCE, PATH_TO_FASTA)\n",
    "truthRead = humanChr22.truthRead()\n",
    "noisyRead = humanChr22.noisyRead()"
   ]
  },
  {
   "cell_type": "code",
   "execution_count": 5,
   "id": "6180c342",
   "metadata": {},
   "outputs": [],
   "source": [
    "treated = dataTreatment(noisyRead, truthRead, 500)\n",
    "noisyData, labels, errors = treated.optParams()\n",
    "h5obj = writeH5(PATH_TO_H5, noisyData, labels)\n",
    "h5obj.initH5()\n",
    "h5obj.appendH5()"
   ]
  },
  {
   "cell_type": "code",
   "execution_count": null,
   "id": "4fa73f74",
   "metadata": {},
   "outputs": [],
   "source": []
  }
 ],
 "metadata": {
  "kernelspec": {
   "display_name": "Python 3",
   "language": "python",
   "name": "python3"
  },
  "language_info": {
   "codemirror_mode": {
    "name": "ipython",
    "version": 3
   },
   "file_extension": ".py",
   "mimetype": "text/x-python",
   "name": "python",
   "nbconvert_exporter": "python",
   "pygments_lexer": "ipython3",
   "version": "3.8.8"
  }
 },
 "nbformat": 4,
 "nbformat_minor": 5
}
