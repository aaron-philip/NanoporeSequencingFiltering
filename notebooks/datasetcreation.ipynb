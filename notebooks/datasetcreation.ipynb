{
 "cells": [
  {
   "cell_type": "markdown",
   "id": "4792a70f",
   "metadata": {},
   "source": [
    "# Creating The Dataset\n",
    "\n",
    "We use all of the filtration and dataprocessing tools/code in filters.ipynb and dataprocessing.ipynb to actually generate a balanced dataset upon which to train our neural network. Our database is a single .h5 file called \"NanoporeFiltered.h5\". Inside it:\n",
    "- the segments of data are stored under the dataset \"NoisySignals\"\n",
    "- the low pass timestepped filter optimal parameters are stored under the dataset \"LowPass\"\n",
    "- the high pass timestepped filter optimal parameters are stored under the dataset \"HighPass\"\n",
    "- the band pass timestepped filter optimal parameters are stored under the dataset \"BandPass\"\n",
    "- the Butterworth low pass filter optimal parameters are stored under the dataset \"ButterworthLowPass\"\n",
    "\n",
    "By using our object-oriented code, we can keep appending to our dataset with a variety of genomic data from various sources. \n",
    "\n",
    "## Modules/Libraries\n",
    "All the original code used was already written in filters.ipynb and dataprocessing.ipynb. We simply use those notebooks and all their dependencies to keep building our database. "
   ]
  },
  {
   "cell_type": "code",
   "execution_count": 1,
   "id": "100bf4ee",
   "metadata": {},
   "outputs": [
    {
     "name": "stdout",
     "output_type": "stream",
     "text": [
      "importing Jupyter notebook from filters.ipynb\n",
      "importing Jupyter notebook from dataprocessing.ipynb\n"
     ]
    }
   ],
   "source": [
    "# Use filtration code developed in filters.ipynb and data processing tools in dataprocessing.ipynb to build dataset\n",
    "import numpy as np\n",
    "import matplotlib.pyplot as plt\n",
    "from scipy.integrate import solve_ivp\n",
    "from scipy import signal\n",
    "from scipy.optimize import curve_fit\n",
    "import math\n",
    "from typing import Optional\n",
    "import os\n",
    "import h5py\n",
    "import random\n",
    "\n",
    "import import_ipynb\n",
    "from filters import Filters, TimesteppedFilters, ButterworthFilters\n",
    "from dataprocessing import genData, dataTreatment, writeH5"
   ]
  },
  {
   "cell_type": "markdown",
   "id": "5ed89d13",
   "metadata": {},
   "source": [
    "## Paths (Human Chromosome 22) \n",
    "The user provides the paths to DeepSimulator, the sequence of interest, the fasta file containing the sequence, and the database file to build the database. "
   ]
  },
  {
   "cell_type": "code",
   "execution_count": null,
   "id": "9157ab6c",
   "metadata": {},
   "outputs": [],
   "source": [
    "PATH_TO_DEEPSIM = '/Users/aaronphilip/ScienceFair/projects/NanoporeSequencingFiltering/DeepSimulator'\n",
    "SEQUENCE = 'artificial_human_chr22'\n",
    "PATH_TO_FASTA = os.path.join(PATH_TO_DEEPSIM, 'example/%s.fasta' % SEQUENCE)\n",
    "PATH_TO_H5 = '/Users/aaronphilip/ScienceFair/projects/NanoporeSequencingFiltering/database'"
   ]
  },
  {
   "cell_type": "markdown",
   "id": "c990ab44",
   "metadata": {},
   "source": [
    "## Data Filtration --> H5 Database\n",
    "We recommend not using the 'Run All' command. This may result in database overwriting. Instead, after a group of data has been processed, change the H5NAME in that cell to some other name( we used 'test' ) to avoid accidentally running all cells and rewriting the database. In the cells below, we outline exactly how the user can append to their database using samples of various noise. Note that the genData object doesn't need to be created everytime, but can be used with mutliple .noisyRead() run consecutively to save some computation time. However, we initially built in 500 datapoint increments."
   ]
  },
  {
   "cell_type": "code",
   "execution_count": 3,
   "id": "333fb01a",
   "metadata": {},
   "outputs": [
    {
     "name": "stdout",
     "output_type": "stream",
     "text": [
      "Offset: 37.0 , Range: 1368.36 , Digitisation: 8192.0\n",
      "Offset: 37.0 , Range: 1368.36 , Digitisation: 8192.0\n"
     ]
    },
    {
     "name": "stderr",
     "output_type": "stream",
     "text": [
      "<string>:80: RuntimeWarning: overflow encountered in exp\n"
     ]
    }
   ],
   "source": [
    "#03/03/22, rewrote 04/25/22\n",
    "# 500 segments of data with default noise on Human Chr. 22\n",
    "H5NAME = 'RefinedNanoporeFiltering'\n",
    "humanChr22 = genData(PATH_TO_DEEPSIM, SEQUENCE, PATH_TO_FASTA)\n",
    "truthRead = humanChr22.truthRead()\n",
    "noisyRead = humanChr22.noisyRead()\n",
    "\n",
    "treated = dataTreatment(noisyRead, truthRead, 500)\n",
    "noisyData, labels, errors = treated.optParams()\n",
    "h5obj = writeH5(PATH_TO_H5, noisyData, labels, H5NAME)\n",
    "h5obj.initH5()\n",
    "h5obj.appendH5()"
   ]
  },
  {
   "cell_type": "code",
   "execution_count": 4,
   "id": "a703c08c",
   "metadata": {
    "scrolled": true
   },
   "outputs": [
    {
     "name": "stdout",
     "output_type": "stream",
     "text": [
      "Offset: 37.0 , Range: 1368.36 , Digitisation: 8192.0\n",
      "Offset: 37.0 , Range: 1368.36 , Digitisation: 8192.0\n"
     ]
    }
   ],
   "source": [
    "#03/04/22, rerun 04/25/22\n",
    "# 500 segments of data from Human Chr. 22 with 90.3% typical accuracy w/o filtration\n",
    "H5NAME = 'RefinedNanoporeFiltering'\n",
    "humanChr22 = genData(PATH_TO_DEEPSIM, SEQUENCE, PATH_TO_FASTA)\n",
    "truthRead = humanChr22.truthRead()\n",
    "noisyRead = humanChr22.noisyRead(e=1.5, f=950, s=0)\n",
    "\n",
    "treated = dataTreatment(noisyRead, truthRead, 500)\n",
    "noisyData, labels, errors = treated.optParams()\n",
    "h5obj = writeH5(PATH_TO_H5, noisyData, labels, H5NAME)\n",
    "h5obj.appendH5()"
   ]
  },
  {
   "cell_type": "code",
   "execution_count": 5,
   "id": "85adf225",
   "metadata": {},
   "outputs": [
    {
     "name": "stdout",
     "output_type": "stream",
     "text": [
      "Offset: 37.0 , Range: 1368.36 , Digitisation: 8192.0\n",
      "Offset: 37.0 , Range: 1368.36 , Digitisation: 8192.0\n"
     ]
    },
    {
     "name": "stderr",
     "output_type": "stream",
     "text": [
      "/opt/anaconda3/lib/python3.8/site-packages/scipy/optimize/minpack.py:828: OptimizeWarning: Covariance of the parameters could not be estimated\n",
      "  warnings.warn('Covariance of the parameters could not be estimated',\n"
     ]
    }
   ],
   "source": [
    "#03/05/22, rerun 04/25/22\n",
    "# 500 segments of data from Human Chr. 22 with 90.9% typical accuracy w/o filtration\n",
    "H5NAME = 'RefinedNanoporeFiltering'\n",
    "humanChr22 = genData(PATH_TO_DEEPSIM, SEQUENCE, PATH_TO_FASTA)\n",
    "truthRead = humanChr22.truthRead()\n",
    "noisyRead = humanChr22.noisyRead(e=0, f=950, s=2)\n",
    "\n",
    "treated = dataTreatment(noisyRead, truthRead, 500)\n",
    "noisyData, labels, errors = treated.optParams()\n",
    "h5obj = writeH5(PATH_TO_H5, noisyData, labels, H5NAME)\n",
    "h5obj.appendH5()"
   ]
  },
  {
   "cell_type": "code",
   "execution_count": 6,
   "id": "efa4b92f",
   "metadata": {},
   "outputs": [
    {
     "name": "stdout",
     "output_type": "stream",
     "text": [
      "Offset: 37.0 , Range: 1368.36 , Digitisation: 8192.0\n"
     ]
    }
   ],
   "source": [
    "#03/05/22, rerun 04/25/22\n",
    "# 500 segments of data from Human Chr. 22 with 91% typical accuracy w/o filtration\n",
    "H5NAME = 'RefinedNanoporeFiltering'\n",
    "noisyRead = humanChr22.noisyRead(e=0, f=850, s=0)\n",
    "\n",
    "treated = dataTreatment(noisyRead, truthRead, 500)\n",
    "noisyData, labels, errors = treated.optParams()\n",
    "h5obj = writeH5(PATH_TO_H5, noisyData, labels, H5NAME)\n",
    "h5obj.appendH5()"
   ]
  },
  {
   "cell_type": "code",
   "execution_count": 7,
   "id": "0b954130",
   "metadata": {},
   "outputs": [
    {
     "name": "stdout",
     "output_type": "stream",
     "text": [
      "Offset: 37.0 , Range: 1368.36 , Digitisation: 8192.0\n",
      "Offset: 37.0 , Range: 1368.36 , Digitisation: 8192.0\n"
     ]
    }
   ],
   "source": [
    "#03/06/22, rerun 04/25/22\n",
    "# 500 segments of data from Human Chr. 22 with 94% typical accuracy w/o filtration\n",
    "H5NAME = 'RefinedNanoporeFiltering'\n",
    "humanChr22 = genData(PATH_TO_DEEPSIM, SEQUENCE, PATH_TO_FASTA)\n",
    "truthRead = humanChr22.truthRead()\n",
    "noisyRead = humanChr22.noisyRead(e=0.5, f=950, s=0)\n",
    "\n",
    "treated = dataTreatment(noisyRead, truthRead, 500)\n",
    "noisyData, labels, errors = treated.optParams()\n",
    "h5obj = writeH5(PATH_TO_H5, noisyData, labels, H5NAME)\n",
    "h5obj.appendH5()"
   ]
  },
  {
   "cell_type": "code",
   "execution_count": 8,
   "id": "f1662e32",
   "metadata": {},
   "outputs": [
    {
     "name": "stdout",
     "output_type": "stream",
     "text": [
      "Offset: 37.0 , Range: 1368.36 , Digitisation: 8192.0\n"
     ]
    }
   ],
   "source": [
    "#03/06/22, rerun 04/25/22\n",
    "# 500 segments of data from Human Chr. 22 with 94.2% typical accuracy w/o filtration\n",
    "H5NAME = 'RefinedNanoporeFiltering'\n",
    "noisyRead = humanChr22.noisyRead(e=0, f=950, s=0.5)\n",
    "\n",
    "treated = dataTreatment(noisyRead, truthRead, 500)\n",
    "noisyData, labels, errors = treated.optParams()\n",
    "h5obj = writeH5(PATH_TO_H5, noisyData, labels, H5NAME)\n",
    "h5obj.appendH5()"
   ]
  },
  {
   "cell_type": "code",
   "execution_count": 9,
   "id": "e7b8145e",
   "metadata": {},
   "outputs": [
    {
     "name": "stdout",
     "output_type": "stream",
     "text": [
      "Offset: 37.0 , Range: 1368.36 , Digitisation: 8192.0\n"
     ]
    }
   ],
   "source": [
    "#03/06/22, rerun 04/25/22\n",
    "# 500 segments of data from Human Chr. 22 with 95% typical accuracy w/o filtration\n",
    "H5NAME = 'RefinedNanoporeFiltering'\n",
    "noisyRead = humanChr22.noisyRead(e=0, f=1000, s=0)\n",
    "\n",
    "treated = dataTreatment(noisyRead, truthRead, 500)\n",
    "noisyData, labels, errors = treated.optParams()\n",
    "h5obj = writeH5(PATH_TO_H5, noisyData, labels, H5NAME)\n",
    "h5obj.appendH5()"
   ]
  },
  {
   "cell_type": "markdown",
   "id": "0d519279",
   "metadata": {},
   "source": [
    "## Paths (E. coli) "
   ]
  },
  {
   "cell_type": "code",
   "execution_count": 2,
   "id": "3ad5c3bc",
   "metadata": {},
   "outputs": [],
   "source": [
    "PATH_TO_DEEPSIM = '/Users/aaronphilip/ScienceFair/projects/NanoporeSequencingFiltering/DeepSimulator'\n",
    "SEQUENCE = 'Ecoli_K12_DH10B'\n",
    "PATH_TO_FASTA = os.path.join(PATH_TO_DEEPSIM, 'example/%s.fasta' % SEQUENCE)\n",
    "PATH_TO_H5 = '/Users/aaronphilip/ScienceFair/projects/NanoporeSequencingFiltering/database'"
   ]
  },
  {
   "cell_type": "markdown",
   "id": "c5888e05",
   "metadata": {},
   "source": [
    "## Data Filtration --> H5 Database"
   ]
  },
  {
   "cell_type": "code",
   "execution_count": 11,
   "id": "07ad3cf0",
   "metadata": {},
   "outputs": [
    {
     "name": "stdout",
     "output_type": "stream",
     "text": [
      "Offset: 37.0 , Range: 1368.36 , Digitisation: 8192.0\n",
      "Offset: 37.0 , Range: 1368.36 , Digitisation: 8192.0\n"
     ]
    }
   ],
   "source": [
    "#03/06/22\n",
    "# 500 segments of data from E. coli with default typical accuracy w/o filtration\n",
    "H5NAME = 'RefinedNanoporeFiltering'\n",
    "Ecoli = genData(PATH_TO_DEEPSIM, SEQUENCE, PATH_TO_FASTA)\n",
    "truthRead = Ecoli.truthRead()\n",
    "noisyRead = Ecoli.noisyRead()\n",
    "\n",
    "treated = dataTreatment(noisyRead, truthRead, 500)\n",
    "noisyData, labels, errors = treated.optParams()\n",
    "h5obj = writeH5(PATH_TO_H5, noisyData, labels, H5NAME)\n",
    "h5obj.appendH5()"
   ]
  },
  {
   "cell_type": "code",
   "execution_count": 12,
   "id": "244ef53e",
   "metadata": {},
   "outputs": [
    {
     "name": "stdout",
     "output_type": "stream",
     "text": [
      "Offset: 37.0 , Range: 1368.36 , Digitisation: 8192.0\n",
      "Offset: 37.0 , Range: 1368.36 , Digitisation: 8192.0\n"
     ]
    }
   ],
   "source": [
    "#03/06/22\n",
    "# 500 segments of data from E. coli with 90.3% typical accuracy w/o filtration\n",
    "H5NAME = 'RefinedNanoporeFiltering'\n",
    "Ecoli = genData(PATH_TO_DEEPSIM, SEQUENCE, PATH_TO_FASTA)\n",
    "truthRead = Ecoli.truthRead()\n",
    "noisyRead = Ecoli.noisyRead(e=1.5, f=950, s=0)\n",
    "\n",
    "treated = dataTreatment(noisyRead, truthRead, 500)\n",
    "noisyData, labels, errors = treated.optParams()\n",
    "h5obj = writeH5(PATH_TO_H5, noisyData, labels, H5NAME)\n",
    "h5obj.appendH5()"
   ]
  },
  {
   "cell_type": "code",
   "execution_count": 13,
   "id": "e384879f",
   "metadata": {},
   "outputs": [
    {
     "name": "stdout",
     "output_type": "stream",
     "text": [
      "Offset: 37.0 , Range: 1368.36 , Digitisation: 8192.0\n",
      "Offset: 37.0 , Range: 1368.36 , Digitisation: 8192.0\n"
     ]
    }
   ],
   "source": [
    "#03/06/22\n",
    "# 500 segments of data from E. coli with 90.9% typical accuracy w/o filtration\n",
    "H5NAME = 'RefinedNanoporeFiltering'\n",
    "Ecoli = genData(PATH_TO_DEEPSIM, SEQUENCE, PATH_TO_FASTA)\n",
    "truthRead = Ecoli.truthRead()\n",
    "noisyRead = Ecoli.noisyRead(e=0, f=950, s=2)\n",
    "\n",
    "treated = dataTreatment(noisyRead, truthRead, 500)\n",
    "noisyData, labels, errors = treated.optParams()\n",
    "h5obj = writeH5(PATH_TO_H5, noisyData, labels, H5NAME)\n",
    "h5obj.appendH5()"
   ]
  },
  {
   "cell_type": "code",
   "execution_count": 3,
   "id": "2813cd3d",
   "metadata": {},
   "outputs": [
    {
     "name": "stdout",
     "output_type": "stream",
     "text": [
      "Offset: 37.0 , Range: 1368.36 , Digitisation: 8192.0\n",
      "Offset: 37.0 , Range: 1368.36 , Digitisation: 8192.0\n"
     ]
    },
    {
     "name": "stderr",
     "output_type": "stream",
     "text": [
      "<string>:80: RuntimeWarning: overflow encountered in exp\n"
     ]
    }
   ],
   "source": [
    "#03/07/22\n",
    "# 500 segments of data from E. coli with 91% typical accuracy w/o filtration\n",
    "H5NAME = 'RefinedNanoporeFiltering'\n",
    "Ecoli = genData(PATH_TO_DEEPSIM, SEQUENCE, PATH_TO_FASTA)\n",
    "truthRead = Ecoli.truthRead()\n",
    "noisyRead = Ecoli.noisyRead(e=0, f=850, s=0)\n",
    "\n",
    "treated = dataTreatment(noisyRead, truthRead, 500)\n",
    "noisyData, labels, errors = treated.optParams()\n",
    "h5obj = writeH5(PATH_TO_H5, noisyData, labels, H5NAME)\n",
    "h5obj.appendH5()"
   ]
  },
  {
   "cell_type": "code",
   "execution_count": 4,
   "id": "8e17d869",
   "metadata": {},
   "outputs": [
    {
     "name": "stdout",
     "output_type": "stream",
     "text": [
      "Offset: 37.0 , Range: 1368.36 , Digitisation: 8192.0\n"
     ]
    }
   ],
   "source": [
    "#03/07/22\n",
    "# 500 segments of data from E. coli with 94% typical accuracy w/o filtration\n",
    "H5NAME = 'RefinedNanoporeFiltering'\n",
    "noisyRead = Ecoli.noisyRead(e=0.5, f=950, s=0)\n",
    "\n",
    "treated = dataTreatment(noisyRead, truthRead, 500)\n",
    "noisyData, labels, errors = treated.optParams()\n",
    "h5obj = writeH5(PATH_TO_H5, noisyData, labels, H5NAME)\n",
    "h5obj.appendH5()"
   ]
  },
  {
   "cell_type": "code",
   "execution_count": 5,
   "id": "ce61d629",
   "metadata": {},
   "outputs": [
    {
     "name": "stdout",
     "output_type": "stream",
     "text": [
      "Offset: 37.0 , Range: 1368.36 , Digitisation: 8192.0\n"
     ]
    },
    {
     "ename": "IndexError",
     "evalue": "list index out of range",
     "output_type": "error",
     "traceback": [
      "\u001b[0;31m---------------------------------------------------------------------------\u001b[0m",
      "\u001b[0;31mIndexError\u001b[0m                                Traceback (most recent call last)",
      "\u001b[0;32m<ipython-input-5-166daa7504bb>\u001b[0m in \u001b[0;36m<module>\u001b[0;34m\u001b[0m\n\u001b[1;32m      5\u001b[0m \u001b[0;34m\u001b[0m\u001b[0m\n\u001b[1;32m      6\u001b[0m \u001b[0mtreated\u001b[0m \u001b[0;34m=\u001b[0m \u001b[0mdataTreatment\u001b[0m\u001b[0;34m(\u001b[0m\u001b[0mnoisyRead\u001b[0m\u001b[0;34m,\u001b[0m \u001b[0mtruthRead\u001b[0m\u001b[0;34m,\u001b[0m \u001b[0;36m500\u001b[0m\u001b[0;34m)\u001b[0m\u001b[0;34m\u001b[0m\u001b[0;34m\u001b[0m\u001b[0m\n\u001b[0;32m----> 7\u001b[0;31m \u001b[0mnoisyData\u001b[0m\u001b[0;34m,\u001b[0m \u001b[0mlabels\u001b[0m\u001b[0;34m,\u001b[0m \u001b[0merrors\u001b[0m \u001b[0;34m=\u001b[0m \u001b[0mtreated\u001b[0m\u001b[0;34m.\u001b[0m\u001b[0moptParams\u001b[0m\u001b[0;34m(\u001b[0m\u001b[0;34m)\u001b[0m\u001b[0;34m\u001b[0m\u001b[0;34m\u001b[0m\u001b[0m\n\u001b[0m\u001b[1;32m      8\u001b[0m \u001b[0mh5obj\u001b[0m \u001b[0;34m=\u001b[0m \u001b[0mwriteH5\u001b[0m\u001b[0;34m(\u001b[0m\u001b[0mPATH_TO_H5\u001b[0m\u001b[0;34m,\u001b[0m \u001b[0mnoisyData\u001b[0m\u001b[0;34m,\u001b[0m \u001b[0mlabels\u001b[0m\u001b[0;34m,\u001b[0m \u001b[0mH5NAME\u001b[0m\u001b[0;34m)\u001b[0m\u001b[0;34m\u001b[0m\u001b[0;34m\u001b[0m\u001b[0m\n\u001b[1;32m      9\u001b[0m \u001b[0mh5obj\u001b[0m\u001b[0;34m.\u001b[0m\u001b[0mappendH5\u001b[0m\u001b[0;34m(\u001b[0m\u001b[0;34m)\u001b[0m\u001b[0;34m\u001b[0m\u001b[0;34m\u001b[0m\u001b[0m\n",
      "\u001b[0;32m~/ScienceFair/projects/NanoporeSequencingFiltering/notebooks/dataprocessing.ipynb\u001b[0m in \u001b[0;36moptParams\u001b[0;34m(self, visualize)\u001b[0m\n",
      "\u001b[0;31mIndexError\u001b[0m: list index out of range"
     ]
    }
   ],
   "source": [
    "#03/07/22\n",
    "# 500 segments of data from E. coli with 94.2% typical accuracy w/o filtration\n",
    "H5NAME = 'RefinedNanoporeFiltering'\n",
    "noisyRead = Ecoli.noisyRead(e=0, f=950, s=0.5)\n",
    "\n",
    "treated = dataTreatment(noisyRead, truthRead, 500)\n",
    "noisyData, labels, errors = treated.optParams()\n",
    "h5obj = writeH5(PATH_TO_H5, noisyData, labels, H5NAME)\n",
    "h5obj.appendH5()"
   ]
  },
  {
   "cell_type": "code",
   "execution_count": null,
   "id": "586f8e98",
   "metadata": {},
   "outputs": [],
   "source": [
    "#03/07/22\n",
    "# 500 segments of data from E. coli with 95% typical accuracy w/o filtration\n",
    "H5NAME = 'RefinedNanoporeFiltering'\n",
    "noisyRead = Ecoli.noisyRead(e=0, f=1000, s=0)\n",
    "\n",
    "treated = dataTreatment(noisyRead, truthRead, 500)\n",
    "noisyData, labels, errors = treated.optParams()\n",
    "h5obj = writeH5(PATH_TO_H5, noisyData, labels, H5NAME)\n",
    "h5obj.appendH5()"
   ]
  },
  {
   "cell_type": "markdown",
   "id": "005e3a3d",
   "metadata": {},
   "source": [
    "## Paths (Mycobacterium) "
   ]
  },
  {
   "cell_type": "code",
   "execution_count": 2,
   "id": "047497aa",
   "metadata": {},
   "outputs": [],
   "source": [
    "PATH_TO_DEEPSIM = '/Users/aaronphilip/ScienceFair/projects/NanoporeSequencingFiltering/DeepSimulator'\n",
    "SEQUENCE = 'Mycobacterium_bovis_AF212297'\n",
    "PATH_TO_FASTA = os.path.join(PATH_TO_DEEPSIM, 'example/%s.fasta' % SEQUENCE)\n",
    "PATH_TO_H5 = '/Users/aaronphilip/ScienceFair/projects/NanoporeSequencingFiltering/database'"
   ]
  },
  {
   "cell_type": "code",
   "execution_count": 1,
   "id": "a0d5a59f",
   "metadata": {},
   "outputs": [
    {
     "ename": "NameError",
     "evalue": "name 'genData' is not defined",
     "output_type": "error",
     "traceback": [
      "\u001b[0;31m---------------------------------------------------------------------------\u001b[0m",
      "\u001b[0;31mNameError\u001b[0m                                 Traceback (most recent call last)",
      "\u001b[0;32m<ipython-input-1-3ce7691c2fe5>\u001b[0m in \u001b[0;36m<module>\u001b[0;34m\u001b[0m\n\u001b[1;32m      2\u001b[0m \u001b[0;31m# 500 segments of data from Mycobacterium with default typical accuracy w/o filtration\u001b[0m\u001b[0;34m\u001b[0m\u001b[0;34m\u001b[0m\u001b[0;34m\u001b[0m\u001b[0m\n\u001b[1;32m      3\u001b[0m \u001b[0mH5NAME\u001b[0m \u001b[0;34m=\u001b[0m \u001b[0;34m'test'\u001b[0m\u001b[0;34m\u001b[0m\u001b[0;34m\u001b[0m\u001b[0m\n\u001b[0;32m----> 4\u001b[0;31m \u001b[0mMyco\u001b[0m \u001b[0;34m=\u001b[0m \u001b[0mgenData\u001b[0m\u001b[0;34m(\u001b[0m\u001b[0mPATH_TO_DEEPSIM\u001b[0m\u001b[0;34m,\u001b[0m \u001b[0mSEQUENCE\u001b[0m\u001b[0;34m,\u001b[0m \u001b[0mPATH_TO_FASTA\u001b[0m\u001b[0;34m)\u001b[0m\u001b[0;34m\u001b[0m\u001b[0;34m\u001b[0m\u001b[0m\n\u001b[0m\u001b[1;32m      5\u001b[0m \u001b[0mtruthRead\u001b[0m \u001b[0;34m=\u001b[0m \u001b[0mMyco\u001b[0m\u001b[0;34m.\u001b[0m\u001b[0mtruthRead\u001b[0m\u001b[0;34m(\u001b[0m\u001b[0;34m)\u001b[0m\u001b[0;34m\u001b[0m\u001b[0;34m\u001b[0m\u001b[0m\n\u001b[1;32m      6\u001b[0m \u001b[0mnoisyRead\u001b[0m \u001b[0;34m=\u001b[0m \u001b[0mMyco\u001b[0m\u001b[0;34m.\u001b[0m\u001b[0mnoisyRead\u001b[0m\u001b[0;34m(\u001b[0m\u001b[0;34m)\u001b[0m\u001b[0;34m\u001b[0m\u001b[0;34m\u001b[0m\u001b[0m\n",
      "\u001b[0;31mNameError\u001b[0m: name 'genData' is not defined"
     ]
    }
   ],
   "source": [
    "#03/07/22\n",
    "# 500 segments of data from Mycobacterium with default typical accuracy w/o filtration\n",
    "H5NAME = 'test'\n",
    "Myco = genData(PATH_TO_DEEPSIM, SEQUENCE, PATH_TO_FASTA)\n",
    "truthRead = Myco.truthRead()\n",
    "noisyRead = Myco.noisyRead()\n",
    "\n",
    "treated = dataTreatment(noisyRead, truthRead, 500)\n",
    "noisyData, labels, errors = treated.optParams()\n",
    "h5obj = writeH5(PATH_TO_H5, noisyData, labels, H5NAME)\n",
    "h5obj.appendH5()"
   ]
  },
  {
   "cell_type": "code",
   "execution_count": 4,
   "id": "a5195f70",
   "metadata": {},
   "outputs": [
    {
     "name": "stdout",
     "output_type": "stream",
     "text": [
      "Offset: 37.0 , Range: 1368.36 , Digitisation: 8192.0\n"
     ]
    }
   ],
   "source": [
    "#03/07/22\n",
    "# 500 segments of data from Mycobacterium with 90.3% typical accuracy w/o filtration\n",
    "H5NAME = 'test'\n",
    "noisyRead = Myco.noisyRead(e=1.5, f=950, s=0)\n",
    "\n",
    "treated = dataTreatment(noisyRead, truthRead, 500)\n",
    "noisyData, labels, errors = treated.optParams()\n",
    "h5obj = writeH5(PATH_TO_H5, noisyData, labels, H5NAME)\n",
    "h5obj.appendH5()"
   ]
  },
  {
   "cell_type": "code",
   "execution_count": 5,
   "id": "3b9e367a",
   "metadata": {},
   "outputs": [
    {
     "name": "stdout",
     "output_type": "stream",
     "text": [
      "Offset: 37.0 , Range: 1368.36 , Digitisation: 8192.0\n"
     ]
    }
   ],
   "source": [
    "#03/07/22\n",
    "# 500 segments of data from Mycobacterium with 90.9% typical accuracy w/o filtration\n",
    "H5NAME = 'test'\n",
    "noisyRead = Myco.noisyRead(e=0, f=950, s=2)\n",
    "\n",
    "treated = dataTreatment(noisyRead, truthRead, 500)\n",
    "noisyData, labels, errors = treated.optParams()\n",
    "h5obj = writeH5(PATH_TO_H5, noisyData, labels, H5NAME)\n",
    "h5obj.appendH5()"
   ]
  },
  {
   "cell_type": "code",
   "execution_count": 6,
   "id": "44c74b68",
   "metadata": {},
   "outputs": [
    {
     "name": "stdout",
     "output_type": "stream",
     "text": [
      "Offset: 37.0 , Range: 1368.36 , Digitisation: 8192.0\n"
     ]
    }
   ],
   "source": [
    "#03/07/22\n",
    "# 500 segments of data from Mycobacterium with 91% typical accuracy w/o filtration\n",
    "H5NAME = 'test'\n",
    "noisyRead = Myco.noisyRead(e=0, f=850, s=2)\n",
    "\n",
    "treated = dataTreatment(noisyRead, truthRead, 500)\n",
    "noisyData, labels, errors = treated.optParams()\n",
    "h5obj = writeH5(PATH_TO_H5, noisyData, labels, H5NAME)\n",
    "h5obj.appendH5()"
   ]
  },
  {
   "cell_type": "code",
   "execution_count": null,
   "id": "536a835c",
   "metadata": {},
   "outputs": [],
   "source": []
  }
 ],
 "metadata": {
  "kernelspec": {
   "display_name": "Python 3",
   "language": "python",
   "name": "python3"
  },
  "language_info": {
   "codemirror_mode": {
    "name": "ipython",
    "version": 3
   },
   "file_extension": ".py",
   "mimetype": "text/x-python",
   "name": "python",
   "nbconvert_exporter": "python",
   "pygments_lexer": "ipython3",
   "version": "3.8.8"
  }
 },
 "nbformat": 4,
 "nbformat_minor": 5
}
