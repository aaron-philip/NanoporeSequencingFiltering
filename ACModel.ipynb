{
 "cells": [
  {
   "cell_type": "code",
   "execution_count": 6,
   "id": "db7bb3fd",
   "metadata": {},
   "outputs": [],
   "source": [
    "import numpy as np\n",
    "import math\n",
    "import cmath\n",
    "import matplotlib.pyplot as plt"
   ]
  },
  {
   "cell_type": "code",
   "execution_count": 7,
   "id": "4ff39114",
   "metadata": {},
   "outputs": [],
   "source": [
    "class ACModel:\n",
    "    def __init__(self, Ro, Rm, Ri, L, C1, C2, EMF, circuitnum):\n",
    "        self.Ro = Ro\n",
    "        self.Rm = Rm\n",
    "        self.Ri = Ri\n",
    "        self.L = L\n",
    "        self.C1 = C1\n",
    "        self.C2 = C2\n",
    "        self.EMF = EMF\n",
    "        self.circuitnum = circuitnum\n",
    "        \n",
    "    \n",
    "    #forward euler timestepped to determine next function value using current funcition value, derivative\n",
    "    def timestepfunc(self, f0, derf, dt):\n",
    "        f = f0 + derf*dt\n",
    "        return f\n",
    "    \n",
    "    def phaseangle(self, a):\n",
    "        return cmath.phase(a)\n",
    "    \n",
    "    #assumes inductors = circuit break and capacitor = wire at t = 0 to solve for intial currents\n",
    "    def I0(self):\n",
    "        I_0 = np.zeros([2*self.circuitnum+1, 1], dtype = 'double') #array to hold the various currents' initial values\n",
    "        R_0 = np.zeros([2*self.circuitnum+1, 1], dtype = 'double') # 'weights' defined during R0_eq calculations to detemine initial current split\n",
    "        sys = np.zeros([self.circuitnum+1, self.circuitnum+1], dtype = 'double') #will hold linear equations determining current split\n",
    "        sys2 = np.zeros([3*self.circuitnum+1, 3*self.circuitnum+1], dtype='double') #columns: I0, I1, I2, I3, I4, I5, I6, I'1, I'3, I'5\n",
    "        solcol = np.zeros([self.circuitnum+1, 1], dtype = 'double') #used as solution matrix for sys\n",
    "        soln2 = np.zeros([3*self.circuitnum+1], dtype = 'double')#solution matrix for sys2\n",
    "        R_eq = self.Rm\n",
    "        \n",
    "        for n in range(self.circuitnum):\n",
    "            R_eq += 2*(self.Ri+self.Ro)\n",
    "            R_0[2*(self.circuitnum - n)] = R_eq #only need circuitnum-1 terms, last term generated is a throwaway\n",
    "            R_eq = 1/((1/R_eq)+1/self.Rm)\n",
    "       \n",
    "        I_max = self.EMF/R_eq\n",
    "        print(\"\\nEquivalent resistance initially: \")\n",
    "        print(R_eq)\n",
    "        solcol[self.circuitnum] = I_max\n",
    "        \n",
    "        for i in range(self.circuitnum):\n",
    "            sys[self.circuitnum - 1 - i][i] = -1\n",
    "            for j in range(i):\n",
    "                sys[i-1][j-i] = (R_0[2*(self.circuitnum - i+1)])/self.Rm\n",
    "                \n",
    "        for x in range(self.circuitnum+1):\n",
    "            sys[self.circuitnum-1][x] = -1.0\n",
    "            sys[self.circuitnum-1][0] = 1.0\n",
    "        \n",
    "        sys[self.circuitnum][0] = 1.0    \n",
    "        solution = np.linalg.solve(sys, solcol)    \n",
    "    \n",
    "        for n in range(self.circuitnum+1):\n",
    "            I_0[2*n-1] = 0.0\n",
    "            I_0[2*n] = solution[n]\n",
    "\n",
    "        print(\"\\nInitial Currents: \")\n",
    "        print(I_0)\n",
    "        return I_0\n",
    "    "
   ]
  },
  {
   "cell_type": "code",
   "execution_count": 8,
   "id": "344f9cd0",
   "metadata": {},
   "outputs": [
    {
     "name": "stdout",
     "output_type": "stream",
     "text": [
      "\n",
      "Equivalent resistance initially: \n",
      "2.4003428150439428\n",
      "\n",
      "Initial Currents: \n",
      "[[3.74946443]\n",
      " [0.        ]\n",
      " [2.73212192]\n",
      " [0.        ]\n",
      " [0.75909403]\n",
      " [0.        ]\n",
      " [0.25824848]]\n"
     ]
    },
    {
     "data": {
      "text/plain": [
       "array([[3.74946443],\n",
       "       [0.        ],\n",
       "       [2.73212192],\n",
       "       [0.        ],\n",
       "       [0.75909403],\n",
       "       [0.        ],\n",
       "       [0.25824848]])"
      ]
     },
     "execution_count": 8,
     "metadata": {},
     "output_type": "execute_result"
    }
   ],
   "source": [
    "model = ACModel(1, 3.3, 2.2, 1e-5, 1e-5, 1e-6, 9, 3)\n",
    "model.I0()\n",
    "#a = complex(1, 2)\n",
    "#model.phaseangle(a)\n"
   ]
  },
  {
   "cell_type": "code",
   "execution_count": null,
   "id": "b6fa722d",
   "metadata": {},
   "outputs": [],
   "source": []
  }
 ],
 "metadata": {
  "kernelspec": {
   "display_name": "Python 3",
   "language": "python",
   "name": "python3"
  },
  "language_info": {
   "codemirror_mode": {
    "name": "ipython",
    "version": 3
   },
   "file_extension": ".py",
   "mimetype": "text/x-python",
   "name": "python",
   "nbconvert_exporter": "python",
   "pygments_lexer": "ipython3",
   "version": "3.8.8"
  }
 },
 "nbformat": 4,
 "nbformat_minor": 5
}
