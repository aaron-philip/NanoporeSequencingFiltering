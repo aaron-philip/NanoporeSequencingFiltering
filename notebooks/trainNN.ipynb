{
 "cells": [
  {
   "cell_type": "code",
   "execution_count": 64,
   "id": "d93f7638",
   "metadata": {},
   "outputs": [],
   "source": [
    "import torch\n",
    "from torch.utils.data import Dataset, DataLoader\n",
    "import h5py\n",
    "import os\n",
    "\n",
    "# Custom Dataloader for our NN from .h5 database\n",
    "class HDF5Data(Dataset):\n",
    "    def __init__(self, path_to_h5):\n",
    "        self.path_to_h5 = path_to_h5\n",
    "        with h5py.File(path_to_h5, 'r') as f:\n",
    "            signaldata = f['NoisySignals'][()]\n",
    "            butterparams = f['ButterworthLowPass'][()]\n",
    "            datalen = len(signaldata)\n",
    "            \n",
    "        self.signaldata = signaldata\n",
    "        self.butterparams = butterparams\n",
    "        self.datalen = datalen\n",
    "\n",
    "    def __len__(self):\n",
    "        return self.datalen\n",
    "\n",
    "    def __getitem__(self, idx):\n",
    "        return self.signaldata[idx], self.butterparams[idx]"
   ]
  },
  {
   "cell_type": "code",
   "execution_count": 65,
   "id": "2989e8ba",
   "metadata": {},
   "outputs": [],
   "source": [
    "PATH_TO_H5 = '/Users/aaronphilip/ScienceFair/projects/NanoporeSequencingFiltering/database/NanoporeFiltered.h5'\n",
    "dataloader = HDF5Data(PATH_TO_H5)\n",
    "train_dataloader = DataLoader(dataloader, batch_size=64, shuffle=False)\n",
    "\n",
    "train_signal, train_params = next(iter(train_dataloader))"
   ]
  },
  {
   "cell_type": "code",
   "execution_count": 66,
   "id": "8be549ae",
   "metadata": {},
   "outputs": [
    {
     "name": "stdout",
     "output_type": "stream",
     "text": [
      "Using cpu device\n"
     ]
    }
   ],
   "source": [
    "device = \"cuda\" if torch.cuda.is_available() else \"cpu\"\n",
    "print(f\"Using {device} device\")"
   ]
  },
  {
   "cell_type": "code",
   "execution_count": null,
   "id": "27c3b330",
   "metadata": {},
   "outputs": [],
   "source": []
  }
 ],
 "metadata": {
  "kernelspec": {
   "display_name": "Python 3",
   "language": "python",
   "name": "python3"
  },
  "language_info": {
   "codemirror_mode": {
    "name": "ipython",
    "version": 3
   },
   "file_extension": ".py",
   "mimetype": "text/x-python",
   "name": "python",
   "nbconvert_exporter": "python",
   "pygments_lexer": "ipython3",
   "version": "3.8.8"
  }
 },
 "nbformat": 4,
 "nbformat_minor": 5
}
